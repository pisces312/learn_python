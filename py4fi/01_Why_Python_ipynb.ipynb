{
 "cells": [
  {
   "cell_type": "markdown",
   "metadata": {},
   "source": [
    "# Python for Finance"
   ]
  },
  {
   "cell_type": "markdown",
   "metadata": {},
   "source": [
    "**Analyze Big Financial Data**\n",
    "\n",
    "O'Reilly (2014)\n",
    "\n",
    "Yves Hilpisch"
   ]
  },
  {
   "cell_type": "markdown",
   "metadata": {},
   "source": [
    "**Buy the book ** |\n",
    "<a href='http://shop.oreilly.com/product/0636920032441.do' target='_blank'>O'Reilly</a> |\n",
    "<a href='http://www.amazon.com/Yves-Hilpisch/e/B00JCYHHJM' target='_blank'>Amazon</a>\n",
    "\n",
    "**All book codes & IPYNBs** |\n",
    "<a href=\"http://oreilly.quant-platform.com\">http://oreilly.quant-platform.com</a>\n",
    "\n",
    "**The Python Quants GmbH** | <a href='http://tpq.io' target='_blank'>http://tpq.io</a>\n",
    "\n",
    "**Contact us** | <a href='mailto:pff@tpq.io'>pff@tpq.io</a>"
   ]
  },
  {
   "cell_type": "markdown",
   "metadata": {},
   "source": [
    "## Introduction"
   ]
  },
  {
   "cell_type": "code",
   "execution_count": 9,
   "metadata": {
    "ExecuteTime": {
     "end_time": "2017-11-18T05:55:16.524601Z",
     "start_time": "2017-11-18T05:55:16.516586Z"
    },
    "collapsed": true
   },
   "outputs": [],
   "source": [
    "from pylab import plt\n",
    "plt.style.use('ggplot')\n",
    "\n",
    "import matplotlib as mpl\n",
    "mpl.rcParams['font.family'] = 'serif'\n",
    "\n",
    "from IPython.core.interactiveshell import InteractiveShell\n",
    "InteractiveShell.ast_node_interactivity = \"all\""
   ]
  },
  {
   "cell_type": "markdown",
   "metadata": {},
   "source": [
    "## Finance and Python Syntax"
   ]
  },
  {
   "cell_type": "code",
   "execution_count": 2,
   "metadata": {
    "ExecuteTime": {
     "end_time": "2017-11-18T05:42:03.942094Z",
     "start_time": "2017-11-18T05:42:03.934085Z"
    },
    "collapsed": true,
    "uuid": "1447b7bb-ed26-4c0f-9e0f-222dfd5d0c9b"
   },
   "outputs": [],
   "source": [
    "S0 = 100.\n",
    "K = 105.\n",
    "T = 1.0\n",
    "r = 0.05\n",
    "sigma = 0.2"
   ]
  },
  {
   "cell_type": "code",
   "execution_count": 3,
   "metadata": {
    "ExecuteTime": {
     "end_time": "2017-11-18T05:42:23.162567Z",
     "start_time": "2017-11-18T05:42:23.146547Z"
    },
    "collapsed": true,
    "uuid": "a95c7301-39f7-4d51-937a-334f051c2d9e"
   },
   "outputs": [],
   "source": [
    "from numpy import *\n",
    "\n",
    "I = 100000\n",
    "\n",
    "random.seed(1000)\n",
    "z = random.standard_normal(I)\n",
    "ST = S0 * exp(r * T + sigma * sqrt(T) * z)\n",
    "hT = maximum(ST - K, 0)\n",
    "C0 = exp(-r * T) * sum(hT) / I"
   ]
  },
  {
   "cell_type": "code",
   "execution_count": 4,
   "metadata": {
    "ExecuteTime": {
     "end_time": "2017-11-18T05:42:27.675135Z",
     "start_time": "2017-11-18T05:42:27.666310Z"
    },
    "uuid": "84aab05d-40de-4ef1-b3a8-eb08f86e1662"
   },
   "outputs": [
    {
     "name": "stdout",
     "output_type": "stream",
     "text": [
      "Value of the European Call Option 9.149\n"
     ]
    }
   ],
   "source": [
    "print(\"Value of the European Call Option %5.3f\" % C0)"
   ]
  },
  {
   "cell_type": "markdown",
   "metadata": {},
   "source": [
    "## Time-to-Results"
   ]
  },
  {
   "cell_type": "code",
   "execution_count": 7,
   "metadata": {
    "ExecuteTime": {
     "end_time": "2017-11-18T05:44:26.771351Z",
     "start_time": "2017-11-18T05:44:26.582169Z"
    },
    "collapsed": true,
    "uuid": "e16924db-8402-4bcb-a9c7-d5753346c72a"
   },
   "outputs": [],
   "source": [
    "import numpy as np\n",
    "import pandas as pd\n",
    "\n",
    "# pip install pandas-datareader\n",
    "from pandas_datareader import data as web\n"
   ]
  },
  {
   "cell_type": "code",
   "execution_count": 16,
   "metadata": {
    "ExecuteTime": {
     "end_time": "2017-11-18T06:01:34.980932Z",
     "start_time": "2017-11-18T06:01:34.343622Z"
    }
   },
   "outputs": [
    {
     "data": {
      "image/png": "[encoded data removed]",
      "text/plain": [
       "<matplotlib.figure.Figure at 0x29696848898>"
      ]
     },
     "metadata": {},
     "output_type": "display_data"
    }
   ],
   "source": [
    "import datetime\n",
    "import os\n",
    "\n",
    "file='01_yahoo.pkl'\n",
    "if os.path.exists(file):\n",
    "    prices=pd.read_pickle(file)\n",
    "else:       \n",
    "    start = datetime.datetime(2017, 1, 1) # or start = '1/1/2016'\n",
    "    end = datetime.date.today()\n",
    "    prices = web.DataReader('AAPL', 'yahoo', start, end)\n",
    "    prices.to_pickle(file)\n",
    "prices.head()  # print first rows of the prices data\n",
    "\n",
    "\n",
    "prices['Log_Ret'] = np.log(prices['Close'] / prices['Close'].shift(1))\n",
    "prices['Volatility'] = prices['Log_Ret'].rolling(window=252).std() * np.sqrt(252)\n",
    "prices.head()\n",
    "\n",
    "%matplotlib inline\n",
    "prices[['Close', 'Volatility']].plot(subplots=True, color='blue',\n",
    "                                   figsize=(8, 6), grid=True);"
   ]
  },
  {
   "cell_type": "code",
   "execution_count": 10,
   "metadata": {
    "ExecuteTime": {
     "end_time": "2017-11-18T05:57:15.363023Z",
     "start_time": "2017-11-18T05:57:15.355013Z"
    },
    "collapsed": true,
    "uuid": "22071d72-094b-4b51-aa39-cfa793d58623"
   },
   "outputs": [],
   "source": [
    "# Need vpn to access google\n",
    "\n",
    "# goog = web.DataReader('GOOG', data_source='google',\n",
    "#                       start='3/14/2009', end='4/14/2014')\n",
    "# goog.index.name = u'Date'\n",
    "# goog.tail()\n",
    "\n",
    "# goog['Log_Ret'] = np.log(goog['Close'] / goog['Close'].shift(1))\n",
    "# goog['Volatility'] = goog['Log_Ret'].rolling(window=252).std() * np.sqrt(252)\n",
    "\n",
    "# %matplotlib inline\n",
    "# goog[['Close', 'Volatility']].plot(subplots=True, color='blue',\n",
    "#                                    figsize=(8, 6), grid=True);\n",
    "# tag: goog_vola\n",
    "# title: Google closing prices and yearly volatility"
   ]
  },
  {
   "cell_type": "markdown",
   "metadata": {},
   "source": [
    "## Paradigm"
   ]
  },
  {
   "cell_type": "code",
   "execution_count": 17,
   "metadata": {
    "ExecuteTime": {
     "end_time": "2017-11-18T06:04:12.290087Z",
     "start_time": "2017-11-18T06:01:59.366001Z"
    },
    "uuid": "beca497d-4c20-4240-b003-4c79c26154be"
   },
   "outputs": [
    {
     "name": "stdout",
     "output_type": "stream",
     "text": [
      "16.3 s ± 313 ms per loop (mean ± std. dev. of 7 runs, 1 loop each)\n"
     ]
    }
   ],
   "source": [
    "# 1) Python way, very slow\n",
    "loops = 25000000\n",
    "from math import *\n",
    "a = range(1, loops)\n",
    "def f(x):\n",
    "    return 3 * log(x) + cos(x) ** 2\n",
    "%timeit r = [f(x) for x in a]"
   ]
  },
  {
   "cell_type": "code",
   "execution_count": 18,
   "metadata": {
    "ExecuteTime": {
     "end_time": "2017-11-18T06:05:25.235680Z",
     "start_time": "2017-11-18T06:05:17.527152Z"
    },
    "uuid": "931fd1fc-cc54-4045-802f-acb8f094a23f"
   },
   "outputs": [
    {
     "name": "stdout",
     "output_type": "stream",
     "text": [
      "935 ms ± 11.6 ms per loop (mean ± std. dev. of 7 runs, 1 loop each)\n"
     ]
    }
   ],
   "source": [
    "# 2) numpy way\n",
    "import numpy as np\n",
    "a = np.arange(1, loops)\n",
    "%timeit r = 3 * np.log(a) + np.cos(a) ** 2"
   ]
  },
  {
   "cell_type": "code",
   "execution_count": 19,
   "metadata": {
    "ExecuteTime": {
     "end_time": "2017-11-18T06:05:38.202708Z",
     "start_time": "2017-11-18T06:05:32.801294Z"
    },
    "uuid": "8d1602b3-a490-4d1a-97d9-112825d86185"
   },
   "outputs": [
    {
     "data": {
      "text/plain": [
       "4"
      ]
     },
     "execution_count": 19,
     "metadata": {},
     "output_type": "execute_result"
    },
    {
     "name": "stdout",
     "output_type": "stream",
     "text": [
      "653 ms ± 5.72 ms per loop (mean ± std. dev. of 7 runs, 1 loop each)\n"
     ]
    }
   ],
   "source": [
    "# 3) numexpr way\n",
    "import numexpr as ne\n",
    "ne.set_num_threads(1)\n",
    "f = '3 * log(a) + cos(a) ** 2'\n",
    "%timeit r = ne.evaluate(f)"
   ]
  },
  {
   "cell_type": "code",
   "execution_count": 20,
   "metadata": {
    "ExecuteTime": {
     "end_time": "2017-11-18T06:05:52.627804Z",
     "start_time": "2017-11-18T06:05:50.151128Z"
    },
    "uuid": "6994f16a-1802-4abe-851d-a48e0ead154d"
   },
   "outputs": [
    {
     "data": {
      "text/plain": [
       "1"
      ]
     },
     "execution_count": 20,
     "metadata": {},
     "output_type": "execute_result"
    },
    {
     "name": "stdout",
     "output_type": "stream",
     "text": [
      "287 ms ± 6.64 ms per loop (mean ± std. dev. of 7 runs, 1 loop each)\n"
     ]
    }
   ],
   "source": [
    "# 4) multi-thread numexpr way\n",
    "ne.set_num_threads(4)\n",
    "%timeit r = ne.evaluate(f)"
   ]
  }
 ],
 "metadata": {
  "anaconda-cloud": {},
  "kernelspec": {
   "display_name": "Python 3",
   "language": "python",
   "name": "python3"
  },
  "language_info": {
   "codemirror_mode": {
    "name": "ipython",
    "version": 3
   },
   "file_extension": ".py",
   "mimetype": "text/x-python",
   "name": "python",
   "nbconvert_exporter": "python",
   "pygments_lexer": "ipython3",
   "version": "3.6.3"
  },
  "toc": {
   "nav_menu": {},
   "number_sections": true,
   "sideBar": true,
   "skip_h1_title": false,
   "toc_cell": false,
   "toc_position": {},
   "toc_section_display": "block",
   "toc_window_display": false
  },
  "varInspector": {
   "cols": {
    "lenName": 16,
    "lenType": 16,
    "lenVar": 40
   },
   "kernels_config": {
    "python": {
     "delete_cmd_postfix": "",
     "delete_cmd_prefix": "del ",
     "library": "var_list.py",
     "varRefreshCmd": "print(var_dic_list())"
    },
    "r": {
     "delete_cmd_postfix": ") ",
     "delete_cmd_prefix": "rm(",
     "library": "var_list.r",
     "varRefreshCmd": "cat(var_dic_list()) "
    }
   },
   "types_to_exclude": [
    "module",
    "function",
    "builtin_function_or_method",
    "instance",
    "_Feature"
   ],
   "window_display": false
  }
 },
 "nbformat": 4,
 "nbformat_minor": 1
}
