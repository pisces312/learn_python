{
 "cells": [
  {
   "cell_type": "markdown",
   "metadata": {},
   "source": [
    "# Python for Finance"
   ]
  },
  {
   "cell_type": "markdown",
   "metadata": {},
   "source": [
    "**Analyze Big Financial Data**\n",
    "\n",
    "O'Reilly (2014)\n",
    "\n",
    "Yves Hilpisch"
   ]
  },
  {
   "cell_type": "markdown",
   "metadata": {},
   "source": [
    "**Buy the book ** |\n",
    "<a href='http://shop.oreilly.com/product/0636920032441.do' target='_blank'>O'Reilly</a> |\n",
    "<a href='http://www.amazon.com/Yves-Hilpisch/e/B00JCYHHJM' target='_blank'>Amazon</a>\n",
    "\n",
    "**All book codes & IPYNBs** |\n",
    "<a href=\"http://oreilly.quant-platform.com\">http://oreilly.quant-platform.com</a>\n",
    "\n",
    "**The Python Quants GmbH** | <a href='http://tpq.io' target='_blank'>http://tpq.io</a>\n",
    "\n",
    "**Contact us** | <a href='mailto:pff@tpq.io'>pff@tpq.io</a>"
   ]
  },
  {
   "cell_type": "markdown",
   "metadata": {},
   "source": [
    "# Introductory Examples"
   ]
  },
  {
   "cell_type": "code",
   "execution_count": 1,
   "metadata": {
    "ExecuteTime": {
     "end_time": "2017-11-18T06:06:59.867035Z",
     "start_time": "2017-11-18T06:06:59.515992Z"
    },
    "collapsed": true
   },
   "outputs": [],
   "source": [
    "from pylab import plt\n",
    "plt.style.use('ggplot')\n",
    "import matplotlib as mpl\n",
    "mpl.rcParams['font.family'] = 'serif'\n",
    "import warnings; warnings.simplefilter('ignore')\n",
    "\n",
    "from IPython.core.interactiveshell import InteractiveShell\n",
    "InteractiveShell.ast_node_interactivity = \"all\""
   ]
  },
  {
   "cell_type": "markdown",
   "metadata": {},
   "source": [
    "## Implied Volatilities"
   ]
  },
  {
   "cell_type": "code",
   "execution_count": 2,
   "metadata": {
    "ExecuteTime": {
     "end_time": "2017-11-18T06:07:41.995347Z",
     "start_time": "2017-11-18T06:07:41.990390Z"
    },
    "collapsed": true,
    "uuid": "8e3ac03d-e5c1-4184-8494-5c02f5c1a897"
   },
   "outputs": [],
   "source": [
    "V0 = 17.6639\n",
    "r = 0.01"
   ]
  },
  {
   "cell_type": "code",
   "execution_count": 3,
   "metadata": {
    "ExecuteTime": {
     "end_time": "2017-11-18T06:07:48.246838Z",
     "start_time": "2017-11-18T06:07:47.290573Z"
    },
    "collapsed": true,
    "uuid": "009042d8-f384-482c-8b4b-eeac6312315e"
   },
   "outputs": [],
   "source": [
    "#! open hdf store by pandas\n",
    "import pandas as pd\n",
    "h5 = pd.HDFStore('./source/vstoxx_data_31032014.h5', 'r')\n",
    "futures_data = h5['futures_data']  # VSTOXX futures data\n",
    "options_data = h5['options_data']  # VSTOXX call option data\n",
    "h5.close()"
   ]
  },
  {
   "cell_type": "code",
   "execution_count": 4,
   "metadata": {
    "ExecuteTime": {
     "end_time": "2017-11-18T06:08:35.865826Z",
     "start_time": "2017-11-18T06:08:35.833441Z"
    }
   },
   "outputs": [
    {
     "data": {
      "text/html": [
       "<div>\n",
       "<style>\n",
       "    .dataframe thead tr:only-child th {\n",
       "        text-align: right;\n",
       "    }\n",
       "\n",
       "    .dataframe thead th {\n",
       "        text-align: left;\n",
       "    }\n",
       "\n",
       "    .dataframe tbody tr th {\n",
       "        vertical-align: top;\n",
       "    }\n",
       "</style>\n",
       "<table border=\"1\" class=\"dataframe\">\n",
       "  <thead>\n",
       "    <tr style=\"text-align: right;\">\n",
       "      <th></th>\n",
       "      <th>DATE</th>\n",
       "      <th>EXP_YEAR</th>\n",
       "      <th>EXP_MONTH</th>\n",
       "      <th>PRICE</th>\n",
       "      <th>MATURITY</th>\n",
       "      <th>TTM</th>\n",
       "    </tr>\n",
       "  </thead>\n",
       "  <tbody>\n",
       "    <tr>\n",
       "      <th>496</th>\n",
       "      <td>2014-03-31 08:00:00</td>\n",
       "      <td>2014</td>\n",
       "      <td>4</td>\n",
       "      <td>17.85</td>\n",
       "      <td>2014-04-18 08:00:00</td>\n",
       "      <td>0.049</td>\n",
       "    </tr>\n",
       "    <tr>\n",
       "      <th>497</th>\n",
       "      <td>2014-03-31 08:00:00</td>\n",
       "      <td>2014</td>\n",
       "      <td>5</td>\n",
       "      <td>19.55</td>\n",
       "      <td>2014-05-16 08:00:00</td>\n",
       "      <td>0.126</td>\n",
       "    </tr>\n",
       "    <tr>\n",
       "      <th>498</th>\n",
       "      <td>2014-03-31 08:00:00</td>\n",
       "      <td>2014</td>\n",
       "      <td>6</td>\n",
       "      <td>19.95</td>\n",
       "      <td>2014-06-20 08:00:00</td>\n",
       "      <td>0.222</td>\n",
       "    </tr>\n",
       "    <tr>\n",
       "      <th>499</th>\n",
       "      <td>2014-03-31 08:00:00</td>\n",
       "      <td>2014</td>\n",
       "      <td>7</td>\n",
       "      <td>20.40</td>\n",
       "      <td>2014-07-18 08:00:00</td>\n",
       "      <td>0.299</td>\n",
       "    </tr>\n",
       "    <tr>\n",
       "      <th>500</th>\n",
       "      <td>2014-03-31 08:00:00</td>\n",
       "      <td>2014</td>\n",
       "      <td>8</td>\n",
       "      <td>20.70</td>\n",
       "      <td>2014-08-15 08:00:00</td>\n",
       "      <td>0.375</td>\n",
       "    </tr>\n",
       "    <tr>\n",
       "      <th>501</th>\n",
       "      <td>2014-03-31 08:00:00</td>\n",
       "      <td>2014</td>\n",
       "      <td>9</td>\n",
       "      <td>20.95</td>\n",
       "      <td>2014-09-19 08:00:00</td>\n",
       "      <td>0.471</td>\n",
       "    </tr>\n",
       "    <tr>\n",
       "      <th>502</th>\n",
       "      <td>2014-03-31 08:00:00</td>\n",
       "      <td>2014</td>\n",
       "      <td>10</td>\n",
       "      <td>21.05</td>\n",
       "      <td>2014-10-17 08:00:00</td>\n",
       "      <td>0.548</td>\n",
       "    </tr>\n",
       "    <tr>\n",
       "      <th>503</th>\n",
       "      <td>2014-03-31 08:00:00</td>\n",
       "      <td>2014</td>\n",
       "      <td>11</td>\n",
       "      <td>21.25</td>\n",
       "      <td>2014-11-21 08:00:00</td>\n",
       "      <td>0.644</td>\n",
       "    </tr>\n",
       "  </tbody>\n",
       "</table>\n",
       "</div>"
      ],
      "text/plain": [
       "                   DATE  EXP_YEAR  EXP_MONTH  PRICE            MATURITY    TTM\n",
       "496 2014-03-31 08:00:00      2014          4  17.85 2014-04-18 08:00:00  0.049\n",
       "497 2014-03-31 08:00:00      2014          5  19.55 2014-05-16 08:00:00  0.126\n",
       "498 2014-03-31 08:00:00      2014          6  19.95 2014-06-20 08:00:00  0.222\n",
       "499 2014-03-31 08:00:00      2014          7  20.40 2014-07-18 08:00:00  0.299\n",
       "500 2014-03-31 08:00:00      2014          8  20.70 2014-08-15 08:00:00  0.375\n",
       "501 2014-03-31 08:00:00      2014          9  20.95 2014-09-19 08:00:00  0.471\n",
       "502 2014-03-31 08:00:00      2014         10  21.05 2014-10-17 08:00:00  0.548\n",
       "503 2014-03-31 08:00:00      2014         11  21.25 2014-11-21 08:00:00  0.644"
      ]
     },
     "execution_count": 4,
     "metadata": {},
     "output_type": "execute_result"
    }
   ],
   "source": [
    "#! apply lambda exp for a certain column\n",
    "import datetime as dt\n",
    "futures_data['DATE'] = futures_data['DATE'].apply(lambda x: dt.datetime.fromtimestamp(x / 1e9))\n",
    "futures_data['MATURITY'] = futures_data['MATURITY'].apply(lambda x: dt.datetime.fromtimestamp(x / 1e9))\n",
    "futures_data"
   ]
  },
  {
   "cell_type": "code",
   "execution_count": 5,
   "metadata": {
    "ExecuteTime": {
     "end_time": "2017-11-18T06:12:55.712573Z",
     "start_time": "2017-11-18T06:12:55.688542Z"
    }
   },
   "outputs": [
    {
     "name": "stdout",
     "output_type": "stream",
     "text": [
      "<class 'pandas.core.frame.DataFrame'>\n",
      "Int64Index: 395 entries, 46170 to 46564\n",
      "Data columns (total 8 columns):\n",
      "DATE         395 non-null datetime64[ns]\n",
      "EXP_YEAR     395 non-null int64\n",
      "EXP_MONTH    395 non-null int64\n",
      "TYPE         395 non-null object\n",
      "STRIKE       395 non-null float64\n",
      "PRICE        395 non-null float64\n",
      "MATURITY     395 non-null datetime64[ns]\n",
      "TTM          395 non-null float64\n",
      "dtypes: datetime64[ns](2), float64(3), int64(2), object(1)\n",
      "memory usage: 27.8+ KB\n"
     ]
    }
   ],
   "source": [
    "options_data['DATE'] = options_data['DATE'].apply(lambda x: dt.datetime.fromtimestamp(x / 1e9))\n",
    "options_data['MATURITY'] = options_data['MATURITY'].apply(lambda x: dt.datetime.fromtimestamp(x / 1e9))\n",
    "options_data.info()"
   ]
  },
  {
   "cell_type": "code",
   "execution_count": 6,
   "metadata": {
    "ExecuteTime": {
     "end_time": "2017-11-18T06:13:01.880351Z",
     "start_time": "2017-11-18T06:13:01.860168Z"
    },
    "uuid": "dead6085-55a7-46c1-9396-3ec0e247b8f4"
   },
   "outputs": [
    {
     "data": {
      "text/html": [
       "<div>\n",
       "<style>\n",
       "    .dataframe thead tr:only-child th {\n",
       "        text-align: right;\n",
       "    }\n",
       "\n",
       "    .dataframe thead th {\n",
       "        text-align: left;\n",
       "    }\n",
       "\n",
       "    .dataframe tbody tr th {\n",
       "        vertical-align: top;\n",
       "    }\n",
       "</style>\n",
       "<table border=\"1\" class=\"dataframe\">\n",
       "  <thead>\n",
       "    <tr style=\"text-align: right;\">\n",
       "      <th></th>\n",
       "      <th>DATE</th>\n",
       "      <th>MATURITY</th>\n",
       "      <th>TTM</th>\n",
       "      <th>STRIKE</th>\n",
       "      <th>PRICE</th>\n",
       "    </tr>\n",
       "  </thead>\n",
       "  <tbody>\n",
       "    <tr>\n",
       "      <th>46170</th>\n",
       "      <td>2014-03-31 08:00:00</td>\n",
       "      <td>2014-04-18 08:00:00</td>\n",
       "      <td>0.049</td>\n",
       "      <td>1.0</td>\n",
       "      <td>16.85</td>\n",
       "    </tr>\n",
       "    <tr>\n",
       "      <th>46171</th>\n",
       "      <td>2014-03-31 08:00:00</td>\n",
       "      <td>2014-04-18 08:00:00</td>\n",
       "      <td>0.049</td>\n",
       "      <td>2.0</td>\n",
       "      <td>15.85</td>\n",
       "    </tr>\n",
       "    <tr>\n",
       "      <th>46172</th>\n",
       "      <td>2014-03-31 08:00:00</td>\n",
       "      <td>2014-04-18 08:00:00</td>\n",
       "      <td>0.049</td>\n",
       "      <td>3.0</td>\n",
       "      <td>14.85</td>\n",
       "    </tr>\n",
       "    <tr>\n",
       "      <th>46173</th>\n",
       "      <td>2014-03-31 08:00:00</td>\n",
       "      <td>2014-04-18 08:00:00</td>\n",
       "      <td>0.049</td>\n",
       "      <td>4.0</td>\n",
       "      <td>13.85</td>\n",
       "    </tr>\n",
       "    <tr>\n",
       "      <th>46174</th>\n",
       "      <td>2014-03-31 08:00:00</td>\n",
       "      <td>2014-04-18 08:00:00</td>\n",
       "      <td>0.049</td>\n",
       "      <td>5.0</td>\n",
       "      <td>12.85</td>\n",
       "    </tr>\n",
       "  </tbody>\n",
       "</table>\n",
       "</div>"
      ],
      "text/plain": [
       "                     DATE            MATURITY    TTM  STRIKE  PRICE\n",
       "46170 2014-03-31 08:00:00 2014-04-18 08:00:00  0.049     1.0  16.85\n",
       "46171 2014-03-31 08:00:00 2014-04-18 08:00:00  0.049     2.0  15.85\n",
       "46172 2014-03-31 08:00:00 2014-04-18 08:00:00  0.049     3.0  14.85\n",
       "46173 2014-03-31 08:00:00 2014-04-18 08:00:00  0.049     4.0  13.85\n",
       "46174 2014-03-31 08:00:00 2014-04-18 08:00:00  0.049     5.0  12.85"
      ]
     },
     "execution_count": 6,
     "metadata": {},
     "output_type": "execute_result"
    }
   ],
   "source": [
    "#! select multiple columns\n",
    "options_data[['DATE', 'MATURITY', 'TTM', 'STRIKE', 'PRICE']].head()"
   ]
  },
  {
   "cell_type": "code",
   "execution_count": 7,
   "metadata": {
    "ExecuteTime": {
     "end_time": "2017-11-18T06:13:54.682818Z",
     "start_time": "2017-11-18T06:13:46.319453Z"
    },
    "uuid": "8da4e671-cbbc-44fd-8050-c8fe300a4501"
   },
   "outputs": [
    {
     "data": {
      "text/plain": [
       "496   2014-04-18 08:00:00\n",
       "497   2014-05-16 08:00:00\n",
       "498   2014-06-20 08:00:00\n",
       "499   2014-07-18 08:00:00\n",
       "500   2014-08-15 08:00:00\n",
       "501   2014-09-19 08:00:00\n",
       "502   2014-10-17 08:00:00\n",
       "503   2014-11-21 08:00:00\n",
       "Name: MATURITY, dtype: datetime64[ns]"
      ]
     },
     "execution_count": 7,
     "metadata": {},
     "output_type": "execute_result"
    }
   ],
   "source": [
    "from bsm_functions import *\n",
    "\n",
    "#! create a new column for implied volatilities\n",
    "options_data['IMP_VOL'] = 0.0\n",
    "\n",
    "\n",
    "tol = 0.5  # tolerance level for moneyness\n",
    "for option in options_data.index:\n",
    "    # iterating over all option quotes\n",
    "    forward = futures_data[futures_data['MATURITY'] == \\\n",
    "                options_data.loc[option]['MATURITY']]['PRICE'].values[0]\n",
    "      # picking the right futures value\n",
    "    if (forward * (1 - tol) < options_data.loc[option]['STRIKE']\n",
    "                             < forward * (1 + tol)):\n",
    "        # only for options with moneyness within tolerance\n",
    "        imp_vol = bsm_call_imp_vol(\n",
    "                V0,  # VSTOXX value \n",
    "                options_data.loc[option]['STRIKE'],\n",
    "                options_data.loc[option]['TTM'],\n",
    "                r,   # short rate\n",
    "                options_data.loc[option]['PRICE'],\n",
    "                sigma_est=2.,  # estimate for implied volatility\n",
    "                it=100)\n",
    "        options_data.ix[option, 'IMP_VOL'] = imp_vol\n",
    "        \n",
    "futures_data['MATURITY']\n",
    "  # select the column with name MATURITY"
   ]
  },
  {
   "cell_type": "code",
   "execution_count": 8,
   "metadata": {
    "ExecuteTime": {
     "end_time": "2017-11-18T06:14:10.189243Z",
     "start_time": "2017-11-18T06:14:10.166502Z"
    },
    "uuid": "cbb44f1e-2ab5-4d8f-976a-2d36515eef12"
   },
   "outputs": [
    {
     "data": {
      "text/plain": [
       "DATE         2014-03-31 08:00:00\n",
       "EXP_YEAR                    2014\n",
       "EXP_MONTH                      4\n",
       "TYPE                           C\n",
       "STRIKE                         1\n",
       "PRICE                      16.85\n",
       "MATURITY     2014-04-18 08:00:00\n",
       "TTM                        0.049\n",
       "IMP_VOL                        0\n",
       "Name: 46170, dtype: object"
      ]
     },
     "execution_count": 8,
     "metadata": {},
     "output_type": "execute_result"
    }
   ],
   "source": [
    "#! select data row for index 46170\n",
    "options_data.loc[46170] "
   ]
  },
  {
   "cell_type": "code",
   "execution_count": 10,
   "metadata": {
    "ExecuteTime": {
     "end_time": "2017-11-18T06:14:49.571097Z",
     "start_time": "2017-11-18T06:14:49.557680Z"
    },
    "uuid": "e267720a-901b-42fd-86eb-f31c29ebc166"
   },
   "outputs": [
    {
     "data": {
      "text/plain": [
       "1.0"
      ]
     },
     "execution_count": 10,
     "metadata": {},
     "output_type": "execute_result"
    }
   ],
   "source": [
    "#! select only the value in column STRIKE for index 46170 \n",
    "options_data.loc[46170]['STRIKE']\n"
   ]
  },
  {
   "cell_type": "code",
   "execution_count": 11,
   "metadata": {
    "ExecuteTime": {
     "end_time": "2017-11-18T06:17:24.305220Z",
     "start_time": "2017-11-18T06:17:24.281505Z"
    },
    "uuid": "03092953-5496-4500-9cf5-e3cbcf46d396"
   },
   "outputs": [
    {
     "data": {
      "text/plain": [
       "[Timestamp('2014-04-18 08:00:00'),\n",
       " Timestamp('2014-05-16 08:00:00'),\n",
       " Timestamp('2014-06-20 08:00:00'),\n",
       " Timestamp('2014-07-18 08:00:00'),\n",
       " Timestamp('2014-08-15 08:00:00'),\n",
       " Timestamp('2014-09-19 08:00:00'),\n",
       " Timestamp('2014-10-17 08:00:00'),\n",
       " Timestamp('2014-11-21 08:00:00')]"
      ]
     },
     "execution_count": 11,
     "metadata": {},
     "output_type": "execute_result"
    }
   ],
   "source": [
    "#! filter rows by certain condition\n",
    "plot_data = options_data[options_data['IMP_VOL'] > 0]\n",
    "maturities = sorted(set(options_data['MATURITY']))\n",
    "maturities"
   ]
  },
  {
   "cell_type": "code",
   "execution_count": 12,
   "metadata": {
    "ExecuteTime": {
     "end_time": "2017-11-18T06:17:36.027231Z",
     "start_time": "2017-11-18T06:17:35.581024Z"
    },
    "uuid": "8886807a-ca71-48d0-b5ef-ab7cb9470548"
   },
   "outputs": [
    {
     "data": {
      "text/plain": [
       "<matplotlib.figure.Figure at 0x18819bde828>"
      ]
     },
     "execution_count": 12,
     "metadata": {},
     "output_type": "execute_result"
    },
    {
     "data": {
      "text/plain": [
       "[<matplotlib.lines.Line2D at 0x18819dae0f0>]"
      ]
     },
     "execution_count": 12,
     "metadata": {},
     "output_type": "execute_result"
    },
    {
     "data": {
      "text/plain": [
       "[<matplotlib.lines.Line2D at 0x18819dae7b8>]"
      ]
     },
     "execution_count": 12,
     "metadata": {},
     "output_type": "execute_result"
    },
    {
     "data": {
      "text/plain": [
       "[<matplotlib.lines.Line2D at 0x18816f94da0>]"
      ]
     },
     "execution_count": 12,
     "metadata": {},
     "output_type": "execute_result"
    },
    {
     "data": {
      "text/plain": [
       "[<matplotlib.lines.Line2D at 0x18819dc00b8>]"
      ]
     },
     "execution_count": 12,
     "metadata": {},
     "output_type": "execute_result"
    },
    {
     "data": {
      "text/plain": [
       "[<matplotlib.lines.Line2D at 0x18819c68048>]"
      ]
     },
     "execution_count": 12,
     "metadata": {},
     "output_type": "execute_result"
    },
    {
     "data": {
      "text/plain": [
       "[<matplotlib.lines.Line2D at 0x18819dc0ac8>]"
      ]
     },
     "execution_count": 12,
     "metadata": {},
     "output_type": "execute_result"
    },
    {
     "data": {
      "text/plain": [
       "[<matplotlib.lines.Line2D at 0x18819dc05f8>]"
      ]
     },
     "execution_count": 12,
     "metadata": {},
     "output_type": "execute_result"
    },
    {
     "data": {
      "text/plain": [
       "[<matplotlib.lines.Line2D at 0x18819dc0fd0>]"
      ]
     },
     "execution_count": 12,
     "metadata": {},
     "output_type": "execute_result"
    },
    {
     "data": {
      "text/plain": [
       "[<matplotlib.lines.Line2D at 0x18819c68198>]"
      ]
     },
     "execution_count": 12,
     "metadata": {},
     "output_type": "execute_result"
    },
    {
     "data": {
      "text/plain": [
       "[<matplotlib.lines.Line2D at 0x18819dc8b00>]"
      ]
     },
     "execution_count": 12,
     "metadata": {},
     "output_type": "execute_result"
    },
    {
     "data": {
      "text/plain": [
       "[<matplotlib.lines.Line2D at 0x18819daec88>]"
      ]
     },
     "execution_count": 12,
     "metadata": {},
     "output_type": "execute_result"
    },
    {
     "data": {
      "text/plain": [
       "[<matplotlib.lines.Line2D at 0x18819dd14e0>]"
      ]
     },
     "execution_count": 12,
     "metadata": {},
     "output_type": "execute_result"
    },
    {
     "data": {
      "text/plain": [
       "[<matplotlib.lines.Line2D at 0x18819dd1048>]"
      ]
     },
     "execution_count": 12,
     "metadata": {},
     "output_type": "execute_result"
    },
    {
     "data": {
      "text/plain": [
       "[<matplotlib.lines.Line2D at 0x18819dd1d68>]"
      ]
     },
     "execution_count": 12,
     "metadata": {},
     "output_type": "execute_result"
    },
    {
     "data": {
      "text/plain": [
       "[<matplotlib.lines.Line2D at 0x18819d83828>]"
      ]
     },
     "execution_count": 12,
     "metadata": {},
     "output_type": "execute_result"
    },
    {
     "data": {
      "text/plain": [
       "[<matplotlib.lines.Line2D at 0x18819dd7630>]"
      ]
     },
     "execution_count": 12,
     "metadata": {},
     "output_type": "execute_result"
    },
    {
     "data": {
      "text/plain": [
       "Text(0.5,0,'strike')"
      ]
     },
     "execution_count": 12,
     "metadata": {},
     "output_type": "execute_result"
    },
    {
     "data": {
      "text/plain": [
       "Text(0,0.5,'implied volatility of volatility')"
      ]
     },
     "execution_count": 12,
     "metadata": {},
     "output_type": "execute_result"
    },
    {
     "data": {
      "text/plain": [
       "<matplotlib.legend.Legend at 0x18819c298d0>"
      ]
     },
     "execution_count": 12,
     "metadata": {},
     "output_type": "execute_result"
    },
    {
     "data": {
      "image/png": "[encoded data removed]",
      "text/plain": [
       "<matplotlib.figure.Figure at 0x18819bde828>"
      ]
     },
     "metadata": {},
     "output_type": "display_data"
    }
   ],
   "source": [
    "import matplotlib.pyplot as plt\n",
    "%matplotlib inline\n",
    "plt.figure(figsize=(8, 6))\n",
    "for maturity in maturities:\n",
    "    data = plot_data[options_data.MATURITY == maturity]\n",
    "      # select data for this maturity\n",
    "    plt.plot(data['STRIKE'], data['IMP_VOL'],\n",
    "             label=maturity.date(), lw=1.5)\n",
    "    plt.plot(data['STRIKE'], data['IMP_VOL'], 'r.', label='')\n",
    "plt.grid(True) \n",
    "plt.xlabel('strike')\n",
    "plt.ylabel('implied volatility of volatility')\n",
    "plt.legend()\n",
    "plt.show()\n",
    "# tag: vs_imp_vol\n",
    "# title: Implied volatilities (of volatility) for European call options on the VSTOXX on 31. March 2014"
   ]
  },
  {
   "cell_type": "code",
   "execution_count": 13,
   "metadata": {
    "ExecuteTime": {
     "end_time": "2017-11-18T06:17:51.929026Z",
     "start_time": "2017-11-18T06:17:51.906312Z"
    },
    "uuid": "34582055-b4b2-49ea-8678-e44288f7de88"
   },
   "outputs": [
    {
     "data": {
      "text/plain": [
       "<pandas.core.groupby.DataFrameGroupBy object at 0x0000018818059E80>"
      ]
     },
     "execution_count": 13,
     "metadata": {},
     "output_type": "execute_result"
    }
   ],
   "source": [
    "keep = ['PRICE', 'IMP_VOL']\n",
    "group_data = plot_data.groupby(['MATURITY', 'STRIKE'])[keep]\n",
    "group_data"
   ]
  },
  {
   "cell_type": "code",
   "execution_count": 14,
   "metadata": {
    "ExecuteTime": {
     "end_time": "2017-11-18T06:17:54.193246Z",
     "start_time": "2017-11-18T06:17:54.157893Z"
    },
    "uuid": "1b5253de-0b31-4af0-8155-b2c405363a0d"
   },
   "outputs": [
    {
     "data": {
      "text/html": [
       "<div>\n",
       "<style>\n",
       "    .dataframe thead tr:only-child th {\n",
       "        text-align: right;\n",
       "    }\n",
       "\n",
       "    .dataframe thead th {\n",
       "        text-align: left;\n",
       "    }\n",
       "\n",
       "    .dataframe tbody tr th {\n",
       "        vertical-align: top;\n",
       "    }\n",
       "</style>\n",
       "<table border=\"1\" class=\"dataframe\">\n",
       "  <thead>\n",
       "    <tr style=\"text-align: right;\">\n",
       "      <th></th>\n",
       "      <th></th>\n",
       "      <th>PRICE</th>\n",
       "      <th>IMP_VOL</th>\n",
       "    </tr>\n",
       "    <tr>\n",
       "      <th>MATURITY</th>\n",
       "      <th>STRIKE</th>\n",
       "      <th></th>\n",
       "      <th></th>\n",
       "    </tr>\n",
       "  </thead>\n",
       "  <tbody>\n",
       "    <tr>\n",
       "      <th rowspan=\"5\" valign=\"top\">2014-04-18 08:00:00</th>\n",
       "      <th>9.0</th>\n",
       "      <td>8.85</td>\n",
       "      <td>2.083388</td>\n",
       "    </tr>\n",
       "    <tr>\n",
       "      <th>10.0</th>\n",
       "      <td>7.85</td>\n",
       "      <td>1.804193</td>\n",
       "    </tr>\n",
       "    <tr>\n",
       "      <th>11.0</th>\n",
       "      <td>6.85</td>\n",
       "      <td>1.550283</td>\n",
       "    </tr>\n",
       "    <tr>\n",
       "      <th>12.0</th>\n",
       "      <td>5.85</td>\n",
       "      <td>1.316103</td>\n",
       "    </tr>\n",
       "    <tr>\n",
       "      <th>13.0</th>\n",
       "      <td>4.85</td>\n",
       "      <td>1.097184</td>\n",
       "    </tr>\n",
       "  </tbody>\n",
       "</table>\n",
       "</div>"
      ],
      "text/plain": [
       "                            PRICE   IMP_VOL\n",
       "MATURITY            STRIKE                 \n",
       "2014-04-18 08:00:00 9.0      8.85  2.083388\n",
       "                    10.0     7.85  1.804193\n",
       "                    11.0     6.85  1.550283\n",
       "                    12.0     5.85  1.316103\n",
       "                    13.0     4.85  1.097184"
      ]
     },
     "execution_count": 14,
     "metadata": {},
     "output_type": "execute_result"
    }
   ],
   "source": [
    "group_data = group_data.sum()\n",
    "group_data.head()"
   ]
  },
  {
   "cell_type": "code",
   "execution_count": 15,
   "metadata": {
    "ExecuteTime": {
     "end_time": "2017-11-18T06:17:56.733016Z",
     "start_time": "2017-11-18T06:17:56.712349Z"
    },
    "uuid": "390e4908-23ed-4419-a62d-b25ed3cf2d15"
   },
   "outputs": [
    {
     "data": {
      "text/plain": [
       "FrozenList([[2014-04-18 08:00:00, 2014-05-16 08:00:00, 2014-06-20 08:00:00, 2014-07-18 08:00:00, 2014-08-15 08:00:00, 2014-09-19 08:00:00, 2014-10-17 08:00:00, 2014-11-21 08:00:00], [9.0, 10.0, 11.0, 12.0, 13.0, 14.0, 15.0, 16.0, 17.0, 18.0, 19.0, 20.0, 21.0, 22.0, 23.0, 24.0, 25.0, 26.0, 27.0, 28.0, 29.0, 30.0]])"
      ]
     },
     "execution_count": 15,
     "metadata": {},
     "output_type": "execute_result"
    }
   ],
   "source": [
    "group_data.index.levels"
   ]
  },
  {
   "cell_type": "markdown",
   "metadata": {},
   "source": [
    "## Monte Carlo Simulation"
   ]
  },
  {
   "cell_type": "code",
   "execution_count": 16,
   "metadata": {
    "ExecuteTime": {
     "end_time": "2017-11-18T06:18:02.608074Z",
     "start_time": "2017-11-18T06:18:02.596700Z"
    },
    "uuid": "13a3c945-2ae9-4583-b21f-cb6d4e4729b8"
   },
   "outputs": [
    {
     "data": {
      "text/plain": [
       "8.0213522351431763"
      ]
     },
     "execution_count": 16,
     "metadata": {},
     "output_type": "execute_result"
    }
   ],
   "source": [
    "from bsm_functions import bsm_call_value\n",
    "S0 = 100.\n",
    "K = 105.\n",
    "T = 1.0\n",
    "r = 0.05\n",
    "sigma = 0.2\n",
    "bsm_call_value(S0, K, T, r, sigma)"
   ]
  },
  {
   "cell_type": "markdown",
   "metadata": {},
   "source": [
    "### Pure Python"
   ]
  },
  {
   "cell_type": "code",
   "execution_count": 26,
   "metadata": {
    "uuid": "aebfedcc-472c-4225-82eb-6405ecf7eaa9"
   },
   "outputs": [
    {
     "name": "stdout",
     "output_type": "stream",
     "text": [
      "European Option Value   7.999\n",
      "Duration in Seconds    21.970\n"
     ]
    },
    {
     "data": {
      "text/plain": [
       "<matplotlib.figure.Figure at 0x10777c588>"
      ]
     },
     "metadata": {},
     "output_type": "display_data"
    }
   ],
   "source": [
    "%run mcs_pure_python.py"
   ]
  },
  {
   "cell_type": "code",
   "execution_count": 27,
   "metadata": {
    "uuid": "d038ec31-373b-4979-aa49-a47ff96fc234"
   },
   "outputs": [
    {
     "data": {
      "text/plain": [
       "7.999"
      ]
     },
     "execution_count": 27,
     "metadata": {},
     "output_type": "execute_result"
    }
   ],
   "source": [
    "sum_val = 0.0\n",
    "for path in S:\n",
    "    # C-like iteration for comparison\n",
    "    sum_val += max(path[-1] - K, 0)\n",
    "C0 = exp(-r * T) * sum_val / I\n",
    "round(C0, 3)"
   ]
  },
  {
   "cell_type": "markdown",
   "metadata": {},
   "source": [
    "### Vectorization with NumPy"
   ]
  },
  {
   "cell_type": "code",
   "execution_count": 28,
   "metadata": {
    "uuid": "2f695395-b7b7-4d0c-bab3-659fcd4da5d0"
   },
   "outputs": [
    {
     "name": "stdout",
     "output_type": "stream",
     "text": [
      "[1, 2, 3, 4, 5]\n"
     ]
    }
   ],
   "source": [
    "v = list(range(1, 6))\n",
    "print(v)"
   ]
  },
  {
   "cell_type": "code",
   "execution_count": 29,
   "metadata": {
    "uuid": "548c6e07-9435-421c-9408-d63252608f74"
   },
   "outputs": [
    {
     "data": {
      "text/plain": [
       "[1, 2, 3, 4, 5, 1, 2, 3, 4, 5]"
      ]
     },
     "execution_count": 29,
     "metadata": {},
     "output_type": "execute_result"
    }
   ],
   "source": [
    "2 * v"
   ]
  },
  {
   "cell_type": "code",
   "execution_count": 30,
   "metadata": {
    "uuid": "0a831df5-d2c3-46af-8399-ad2b4b411001"
   },
   "outputs": [
    {
     "data": {
      "text/plain": [
       "array([1, 2, 3, 4, 5])"
      ]
     },
     "execution_count": 30,
     "metadata": {},
     "output_type": "execute_result"
    }
   ],
   "source": [
    "import numpy as np\n",
    "v = np.arange(1, 6)\n",
    "v"
   ]
  },
  {
   "cell_type": "code",
   "execution_count": 31,
   "metadata": {
    "uuid": "4c5153ff-983f-4ee1-95d6-0dae809da4bf"
   },
   "outputs": [
    {
     "data": {
      "text/plain": [
       "array([ 2,  4,  6,  8, 10])"
      ]
     },
     "execution_count": 31,
     "metadata": {},
     "output_type": "execute_result"
    }
   ],
   "source": [
    "2 * v"
   ]
  },
  {
   "cell_type": "code",
   "execution_count": 32,
   "metadata": {
    "uuid": "0fca4476-2003-4733-a6e1-f405997e1b1a"
   },
   "outputs": [
    {
     "name": "stdout",
     "output_type": "stream",
     "text": [
      "European Option Value   8.037\n",
      "Duration in Seconds     0.681\n"
     ]
    }
   ],
   "source": [
    "%run mcs_vector_numpy.py"
   ]
  },
  {
   "cell_type": "code",
   "execution_count": 33,
   "metadata": {
    "uuid": "6d10a22b-fed3-4627-a2bc-6f958824ca2f"
   },
   "outputs": [
    {
     "data": {
      "text/plain": [
       "32.26"
      ]
     },
     "execution_count": 33,
     "metadata": {},
     "output_type": "execute_result"
    }
   ],
   "source": [
    "round(tpy / tnp1, 2)"
   ]
  },
  {
   "cell_type": "markdown",
   "metadata": {},
   "source": [
    "### Full Vectorization with Log Euler Scheme"
   ]
  },
  {
   "cell_type": "code",
   "execution_count": 34,
   "metadata": {
    "uuid": "02a121e5-75ff-4ad1-9812-ec0e69d3ebaa"
   },
   "outputs": [
    {
     "name": "stdout",
     "output_type": "stream",
     "text": [
      "European Option Value   8.166\n",
      "Duration in Seconds     0.997\n"
     ]
    }
   ],
   "source": [
    "%run mcs_full_vector_numpy.py"
   ]
  },
  {
   "cell_type": "markdown",
   "metadata": {},
   "source": [
    "### Graphical Analysis"
   ]
  },
  {
   "cell_type": "code",
   "execution_count": 35,
   "metadata": {
    "uuid": "f880bd6e-72fa-4906-b2a7-24f3c7419338"
   },
   "outputs": [
    {
     "data": {
      "text/plain": [
       "<matplotlib.text.Text at 0x1157f92b0>"
      ]
     },
     "execution_count": 35,
     "metadata": {},
     "output_type": "execute_result"
    },
    {
     "data": {
      "image/png": "[encoded data removed]",
      "text/plain": [
       "<matplotlib.figure.Figure at 0x115623710>"
      ]
     },
     "metadata": {},
     "output_type": "display_data"
    }
   ],
   "source": [
    "import matplotlib.pyplot as plt\n",
    "plt.plot(S[:, :10])\n",
    "plt.grid(True)\n",
    "plt.xlabel('time step')\n",
    "plt.ylabel('index level')\n",
    "# tag: index_paths\n",
    "# title: The first 10 simulated index level paths"
   ]
  },
  {
   "cell_type": "code",
   "execution_count": 36,
   "metadata": {
    "uuid": "997e2c48-f4e4-49c2-be9b-ce2ed0a2166f"
   },
   "outputs": [
    {
     "data": {
      "text/plain": [
       "<matplotlib.text.Text at 0x115817908>"
      ]
     },
     "execution_count": 36,
     "metadata": {},
     "output_type": "execute_result"
    },
    {
     "data": {
      "image/png": "[encoded data removed]",
      "text/plain": [
       "<matplotlib.figure.Figure at 0x115623780>"
      ]
     },
     "metadata": {},
     "output_type": "display_data"
    }
   ],
   "source": [
    "plt.hist(S[-1], bins=50)\n",
    "plt.grid(True)\n",
    "plt.xlabel('index level')\n",
    "plt.ylabel('frequency')\n",
    "# tag: index_histo\n",
    "# title: Histogram of all simulated end of period index level values"
   ]
  },
  {
   "cell_type": "code",
   "execution_count": 37,
   "metadata": {
    "uuid": "bc4f9174-c92c-4abf-9d31-da3e7d0baec5"
   },
   "outputs": [
    {
     "data": {
      "text/plain": [
       "(0, 50000)"
      ]
     },
     "execution_count": 37,
     "metadata": {},
     "output_type": "execute_result"
    },
    {
     "data": {
      "image/png": "[encoded data removed]",
      "text/plain": [
       "<matplotlib.figure.Figure at 0x1155fbf28>"
      ]
     },
     "metadata": {},
     "output_type": "display_data"
    }
   ],
   "source": [
    "plt.hist(np.maximum(S[-1] - K, 0), bins=50)\n",
    "plt.grid(True)\n",
    "plt.xlabel('option inner value')\n",
    "plt.ylabel('frequency')\n",
    "plt.ylim(0, 50000)\n",
    "# tag: option_iv_hist\n",
    "# title: Histogram of all simulated end of period option inner values"
   ]
  },
  {
   "cell_type": "code",
   "execution_count": 38,
   "metadata": {
    "uuid": "d5aed456-001a-423c-9366-df294f1c3f0b"
   },
   "outputs": [
    {
     "data": {
      "text/plain": [
       "133533"
      ]
     },
     "execution_count": 38,
     "metadata": {},
     "output_type": "execute_result"
    }
   ],
   "source": [
    "sum(S[-1] < K)"
   ]
  },
  {
   "cell_type": "markdown",
   "metadata": {},
   "source": [
    "## Technical Analysis"
   ]
  },
  {
   "cell_type": "code",
   "execution_count": 18,
   "metadata": {
    "ExecuteTime": {
     "end_time": "2017-11-18T06:19:29.279779Z",
     "start_time": "2017-11-18T06:19:29.031155Z"
    },
    "collapsed": true,
    "uuid": "dcba1a61-94e3-47dd-ab54-2c688e740741"
   },
   "outputs": [],
   "source": [
    "import numpy as np\n",
    "import pandas as pd\n",
    "from pandas_datareader import data as web"
   ]
  },
  {
   "cell_type": "code",
   "execution_count": 23,
   "metadata": {
    "ExecuteTime": {
     "end_time": "2017-11-18T06:23:34.288181Z",
     "start_time": "2017-11-18T06:23:34.264296Z"
    },
    "uuid": "3b6ce702-6a8c-400c-a6fc-d382f316dd9c"
   },
   "outputs": [
    {
     "name": "stdout",
     "output_type": "stream",
     "text": [
      "<class 'pandas.core.frame.DataFrame'>\n",
      "DatetimeIndex: 728 entries, 2014-12-31 to 2017-11-17\n",
      "Data columns (total 6 columns):\n",
      "Open         728 non-null float64\n",
      "High         728 non-null float64\n",
      "Low          728 non-null float64\n",
      "Close        728 non-null float64\n",
      "Adj Close    728 non-null float64\n",
      "Volume       728 non-null int64\n",
      "dtypes: float64(5), int64(1)\n",
      "memory usage: 39.8 KB\n"
     ]
    }
   ],
   "source": [
    "import os\n",
    "\n",
    "file = '03_yahoo.pkl'\n",
    "if os.path.exists(file):\n",
    "    SPY = pd.read_pickle(file)\n",
    "else:\n",
    "    SPY = web.DataReader(\n",
    "        'SPY', data_source='yahoo', start='1/1/2015', end='11/17/2017')\n",
    "    SPY.to_pickle(file)\n",
    "\n",
    "# SPY = web.DataReader('SPY', data_source='google',\n",
    "#                        start='1/1/2000', end='4/14/2014')\n",
    "SPY.info()"
   ]
  },
  {
   "cell_type": "code",
   "execution_count": 24,
   "metadata": {
    "ExecuteTime": {
     "end_time": "2017-11-18T06:23:46.082815Z",
     "start_time": "2017-11-18T06:23:45.875229Z"
    },
    "uuid": "444a17d9-8fd1-436d-825a-3001cb080b7c"
   },
   "outputs": [
    {
     "data": {
      "text/plain": [
       "<matplotlib.axes._subplots.AxesSubplot at 0x1881ab0dda0>"
      ]
     },
     "execution_count": 24,
     "metadata": {},
     "output_type": "execute_result"
    },
    {
     "data": {
      "image/png": "[encoded data removed]",
      "text/plain": [
       "<matplotlib.figure.Figure at 0x1881ab0d2b0>"
      ]
     },
     "metadata": {},
     "output_type": "display_data"
    }
   ],
   "source": [
    "SPY['Close'].plot(grid=True, figsize=(8, 5))\n",
    "# tag: SPY\n",
    "# title: Historical levels of the S&P 500 index"
   ]
  },
  {
   "cell_type": "code",
   "execution_count": 25,
   "metadata": {
    "ExecuteTime": {
     "end_time": "2017-11-18T06:23:58.797807Z",
     "start_time": "2017-11-18T06:23:58.770253Z"
    },
    "uuid": "d134fa6d-4db4-40f3-b1ce-952ef2346e18"
   },
   "outputs": [
    {
     "data": {
      "text/html": [
       "<div>\n",
       "<style>\n",
       "    .dataframe thead tr:only-child th {\n",
       "        text-align: right;\n",
       "    }\n",
       "\n",
       "    .dataframe thead th {\n",
       "        text-align: left;\n",
       "    }\n",
       "\n",
       "    .dataframe tbody tr th {\n",
       "        vertical-align: top;\n",
       "    }\n",
       "</style>\n",
       "<table border=\"1\" class=\"dataframe\">\n",
       "  <thead>\n",
       "    <tr style=\"text-align: right;\">\n",
       "      <th></th>\n",
       "      <th>Close</th>\n",
       "      <th>42d</th>\n",
       "      <th>252d</th>\n",
       "    </tr>\n",
       "    <tr>\n",
       "      <th>Date</th>\n",
       "      <th></th>\n",
       "      <th></th>\n",
       "      <th></th>\n",
       "    </tr>\n",
       "  </thead>\n",
       "  <tbody>\n",
       "    <tr>\n",
       "      <th>2017-11-13</th>\n",
       "      <td>258.329987</td>\n",
       "      <td>254.46</td>\n",
       "      <td>239.40</td>\n",
       "    </tr>\n",
       "    <tr>\n",
       "      <th>2017-11-14</th>\n",
       "      <td>257.730011</td>\n",
       "      <td>254.66</td>\n",
       "      <td>239.56</td>\n",
       "    </tr>\n",
       "    <tr>\n",
       "      <th>2017-11-15</th>\n",
       "      <td>256.440002</td>\n",
       "      <td>254.82</td>\n",
       "      <td>239.71</td>\n",
       "    </tr>\n",
       "    <tr>\n",
       "      <th>2017-11-16</th>\n",
       "      <td>258.619995</td>\n",
       "      <td>255.03</td>\n",
       "      <td>239.87</td>\n",
       "    </tr>\n",
       "    <tr>\n",
       "      <th>2017-11-17</th>\n",
       "      <td>257.859985</td>\n",
       "      <td>255.21</td>\n",
       "      <td>240.03</td>\n",
       "    </tr>\n",
       "  </tbody>\n",
       "</table>\n",
       "</div>"
      ],
      "text/plain": [
       "                 Close     42d    252d\n",
       "Date                                  \n",
       "2017-11-13  258.329987  254.46  239.40\n",
       "2017-11-14  257.730011  254.66  239.56\n",
       "2017-11-15  256.440002  254.82  239.71\n",
       "2017-11-16  258.619995  255.03  239.87\n",
       "2017-11-17  257.859985  255.21  240.03"
      ]
     },
     "execution_count": 25,
     "metadata": {},
     "output_type": "execute_result"
    }
   ],
   "source": [
    "SPY['42d'] = np.round(SPY['Close'].rolling(window=42).mean(), 2)\n",
    "SPY['252d'] = np.round(SPY['Close'].rolling(window=252).mean(), 2)\n",
    "SPY[['Close', '42d', '252d']].tail()"
   ]
  },
  {
   "cell_type": "code",
   "execution_count": 26,
   "metadata": {
    "ExecuteTime": {
     "end_time": "2017-11-18T06:24:03.997892Z",
     "start_time": "2017-11-18T06:24:03.752043Z"
    },
    "uuid": "4dc6ac7e-6fac-4994-811b-35789c551de7"
   },
   "outputs": [
    {
     "data": {
      "text/plain": [
       "<matplotlib.axes._subplots.AxesSubplot at 0x1881ab0d7f0>"
      ]
     },
     "execution_count": 26,
     "metadata": {},
     "output_type": "execute_result"
    },
    {
     "data": {
      "image/png": "[encoded data removed]",
      "text/plain": [
       "<matplotlib.figure.Figure at 0x1881ab9df98>"
      ]
     },
     "metadata": {},
     "output_type": "display_data"
    }
   ],
   "source": [
    "SPY[['Close', '42d', '252d']].plot(grid=True, figsize=(8, 5))\n",
    "# tag: SPY_trend\n",
    "# title: The S&P 500 index with 42d and 252d trend lines"
   ]
  },
  {
   "cell_type": "code",
   "execution_count": 27,
   "metadata": {
    "ExecuteTime": {
     "end_time": "2017-11-18T06:24:12.110750Z",
     "start_time": "2017-11-18T06:24:12.083125Z"
    },
    "uuid": "ccc2b0e9-5ab7-49c1-8054-3a1e1b23ab92"
   },
   "outputs": [
    {
     "data": {
      "text/plain": [
       "Date\n",
       "2017-11-13    15.06\n",
       "2017-11-14    15.10\n",
       "2017-11-15    15.11\n",
       "2017-11-16    15.16\n",
       "2017-11-17    15.18\n",
       "Name: 42-252, dtype: float64"
      ]
     },
     "execution_count": 27,
     "metadata": {},
     "output_type": "execute_result"
    }
   ],
   "source": [
    "SPY['42-252'] = SPY['42d'] - SPY['252d']\n",
    "SPY['42-252'].tail()"
   ]
  },
  {
   "cell_type": "code",
   "execution_count": 28,
   "metadata": {
    "ExecuteTime": {
     "end_time": "2017-11-18T06:24:16.129281Z",
     "start_time": "2017-11-18T06:24:16.101328Z"
    },
    "uuid": "e127f7c9-8e7f-4038-b490-502e6bf436f7"
   },
   "outputs": [
    {
     "data": {
      "text/plain": [
       "Date\n",
       "2014-12-31   NaN\n",
       "2015-01-02   NaN\n",
       "2015-01-05   NaN\n",
       "2015-01-06   NaN\n",
       "2015-01-07   NaN\n",
       "Name: 42-252, dtype: float64"
      ]
     },
     "execution_count": 28,
     "metadata": {},
     "output_type": "execute_result"
    }
   ],
   "source": [
    "SPY['42-252'].head()"
   ]
  },
  {
   "cell_type": "code",
   "execution_count": 29,
   "metadata": {
    "ExecuteTime": {
     "end_time": "2017-11-18T06:24:21.473439Z",
     "start_time": "2017-11-18T06:24:21.445331Z"
    },
    "uuid": "d1125e1b-3cd0-4274-aee7-9b1136db8c02"
   },
   "outputs": [
    {
     "data": {
      "text/plain": [
       " 1    360\n",
       " 0    319\n",
       "-1     49\n",
       "Name: Regime, dtype: int64"
      ]
     },
     "execution_count": 29,
     "metadata": {},
     "output_type": "execute_result"
    }
   ],
   "source": [
    "SD = 5\n",
    "SPY['Regime'] = np.where(SPY['42-252'] > SD, 1, 0)\n",
    "SPY['Regime'] = np.where(SPY['42-252'] < -SD, -1, SPY['Regime'])\n",
    "SPY['Regime'].value_counts()"
   ]
  },
  {
   "cell_type": "code",
   "execution_count": 30,
   "metadata": {
    "ExecuteTime": {
     "end_time": "2017-11-18T06:24:24.870133Z",
     "start_time": "2017-11-18T06:24:24.685580Z"
    },
    "uuid": "ffec4dc1-ebb4-43e1-962d-1fbc465afee1"
   },
   "outputs": [
    {
     "data": {
      "text/plain": [
       "<matplotlib.axes._subplots.AxesSubplot at 0x1881abbd550>"
      ]
     },
     "execution_count": 30,
     "metadata": {},
     "output_type": "execute_result"
    },
    {
     "data": {
      "text/plain": [
       "(-1.1, 1.1)"
      ]
     },
     "execution_count": 30,
     "metadata": {},
     "output_type": "execute_result"
    },
    {
     "data": {
      "image/png": "[encoded data removed]",
      "text/plain": [
       "<matplotlib.figure.Figure at 0x1881ab97cf8>"
      ]
     },
     "metadata": {},
     "output_type": "display_data"
    }
   ],
   "source": [
    "SPY['Regime'].plot(lw=1.5, grid=True)\n",
    "plt.ylim([-1.1, 1.1])\n",
    "# tag: SPY_signal\n",
    "# title: Signal regimes over time"
   ]
  },
  {
   "cell_type": "code",
   "execution_count": 31,
   "metadata": {
    "ExecuteTime": {
     "end_time": "2017-11-18T06:24:44.854726Z",
     "start_time": "2017-11-18T06:24:44.619939Z"
    },
    "uuid": "0e51676f-7b84-441d-8191-08799247774c"
   },
   "outputs": [
    {
     "data": {
      "text/plain": [
       "<matplotlib.axes._subplots.AxesSubplot at 0x1881acc0400>"
      ]
     },
     "execution_count": 31,
     "metadata": {},
     "output_type": "execute_result"
    },
    {
     "data": {
      "image/png": "[encoded data removed]",
      "text/plain": [
       "<matplotlib.figure.Figure at 0x1881ac2a7f0>"
      ]
     },
     "metadata": {},
     "output_type": "display_data"
    }
   ],
   "source": [
    "SPY['Market'] = np.log(SPY['Close'] / SPY['Close'].shift(1))\n",
    "SPY['Strategy'] = SPY['Regime'].shift(1) * SPY['Market']\n",
    "SPY[['Market', 'Strategy']].cumsum().apply(np.exp).plot(grid=True,\n",
    "                                                    figsize=(8, 5))\n",
    "# tag: SPY_wealth\n",
    "# title: The S&P 500 index vs. investor's wealth"
   ]
  },
  {
   "cell_type": "markdown",
   "metadata": {},
   "source": [
    "## Conclusions"
   ]
  },
  {
   "cell_type": "markdown",
   "metadata": {},
   "source": [
    "## Further Reading"
   ]
  }
 ],
 "metadata": {
  "anaconda-cloud": {},
  "kernelspec": {
   "display_name": "Python 3",
   "language": "python",
   "name": "python3"
  },
  "language_info": {
   "codemirror_mode": {
    "name": "ipython",
    "version": 3
   },
   "file_extension": ".py",
   "mimetype": "text/x-python",
   "name": "python",
   "nbconvert_exporter": "python",
   "pygments_lexer": "ipython3",
   "version": "3.6.3"
  },
  "toc": {
   "nav_menu": {},
   "number_sections": true,
   "sideBar": true,
   "skip_h1_title": false,
   "toc_cell": false,
   "toc_position": {},
   "toc_section_display": "block",
   "toc_window_display": false
  },
  "varInspector": {
   "cols": {
    "lenName": 16,
    "lenType": 16,
    "lenVar": 40
   },
   "kernels_config": {
    "python": {
     "delete_cmd_postfix": "",
     "delete_cmd_prefix": "del ",
     "library": "var_list.py",
     "varRefreshCmd": "print(var_dic_list())"
    },
    "r": {
     "delete_cmd_postfix": ") ",
     "delete_cmd_prefix": "rm(",
     "library": "var_list.r",
     "varRefreshCmd": "cat(var_dic_list()) "
    }
   },
   "types_to_exclude": [
    "module",
    "function",
    "builtin_function_or_method",
    "instance",
    "_Feature"
   ],
   "window_display": false
  }
 },
 "nbformat": 4,
 "nbformat_minor": 1
}
