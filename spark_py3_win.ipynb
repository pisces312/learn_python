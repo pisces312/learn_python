{
 "cells": [
  {
   "cell_type": "code",
   "execution_count": 21,
   "metadata": {
    "ExecuteTime": {
     "end_time": "2018-01-01T12:45:07.718538Z",
     "start_time": "2018-01-01T12:45:07.686495Z"
    }
   },
   "outputs": [],
   "source": [
    "# notebook config\n",
    "from IPython.core.interactiveshell import InteractiveShell\n",
    "InteractiveShell.ast_node_interactivity = 'all'\n",
    "\n",
    "# spark bootstrap\n",
    "import os\n",
    "import sys\n",
    "\n",
    "\n",
    "# win env\n",
    "#set working dir\n",
    "os.chdir('C:\\\\nili\\\\my-git-projects\\\\learn_python')\n",
    "spark_path = 'C:/dev/spark-2.2.1-bin-hadoop2.7'\n",
    "hadoop_path = 'C:/dev/winutils/hadoop-2.7.1'\n",
    "# spark_path = \"C:\\\\dev\\\\spark-2.2.1-bin-hadoop2.7\"\n",
    "# hadoop_path='C:\\\\dev\\\\winutils\\\\hadoop-2.7.1'\n",
    "\n",
    "os.environ['SPARK_HOME'] = spark_path\n",
    "os.environ['HADOOP_HOME'] = hadoop_path\n",
    "sys.path.append(spark_path + \"/bin\")\n",
    "sys.path.append(spark_path + \"/python\")\n",
    "sys.path.append(spark_path + \"/python/pyspark/\")\n",
    "sys.path.append(spark_path + \"/python/lib\")\n",
    "sys.path.append(spark_path + \"/python/lib/pyspark.zip\")\n",
    "sys.path.append(spark_path + \"/python/lib/py4j-0.10.4-src.zip\")\n",
    "\n",
    "from pyspark import SparkContext\n",
    "from pyspark import SparkConf\n",
    "from pyspark.sql import SparkSession\n",
    "from pyspark.sql.functions import *\n",
    "#! SparkContext or SparkSession, use only one\n",
    "# sc = SparkContext(\"local\", \"test\")\n",
    "# sc = SparkContext(master=\"local\", appName=\"test\")\n",
    "# sc\n",
    "\n",
    "#! only deploy-mode=client for notebook"
   ]
  },
  {
   "cell_type": "markdown",
   "metadata": {},
   "source": [
    "# Self-Contained Application Sample\n",
    "It will stop spark automatically after running cell"
   ]
  },
  {
   "cell_type": "code",
   "execution_count": 10,
   "metadata": {
    "ExecuteTime": {
     "end_time": "2018-01-01T12:41:45.975513Z",
     "start_time": "2018-01-01T12:41:44.805057Z"
    }
   },
   "outputs": [
    {
     "name": "stdout",
     "output_type": "stream",
     "text": [
      "Lines with a: 61, lines with b: 30\n"
     ]
    }
   ],
   "source": [
    "\n",
    "\"\"\"SimpleApp.py\"\"\"\n",
    "\n",
    "# 1) master = local\n",
    "master = \"local\"\n",
    "\n",
    "# 2) master = standalone cluster\n",
    "# master = \"spark://localhost:7077\"\n",
    "\n",
    "# 3) master = yarn\n",
    "\n",
    "\n",
    "appName = \"test\"\n",
    "spark = SparkSession.builder.appName(appName).master(master).getOrCreate()\n",
    "\n",
    "logFile = spark_path + \"/README.md\"  # Should be some file on your system\n",
    "logData = spark.read.text(logFile).cache()\n",
    "\n",
    "numAs = logData.filter(logData.value.contains('a')).count()\n",
    "numBs = logData.filter(logData.value.contains('b')).count()\n",
    "\n",
    "print(\"Lines with a: %i, lines with b: %i\" % (numAs, numBs))\n",
    "\n",
    "#! must stop spark, otherwise it keeps running on Spark master web UI\n",
    "#it will throw a socket close warning\n",
    "spark.stop()"
   ]
  },
  {
   "cell_type": "markdown",
   "metadata": {},
   "source": [
    "# Notebook sampels"
   ]
  },
  {
   "cell_type": "code",
   "execution_count": 12,
   "metadata": {
    "ExecuteTime": {
     "end_time": "2018-01-01T12:41:57.815925Z",
     "start_time": "2018-01-01T12:41:57.799905Z"
    }
   },
   "outputs": [
    {
     "data": {
      "text/html": [
       "\n",
       "            <div>\n",
       "                <p><b>SparkSession - in-memory</b></p>\n",
       "                \n",
       "        <div>\n",
       "            <p><b>SparkContext</b></p>\n",
       "\n",
       "            <p><a href=\"http://192.168.31.136:4041\">Spark UI</a></p>\n",
       "\n",
       "            <dl>\n",
       "              <dt>Version</dt>\n",
       "                <dd><code>v2.2.1</code></dd>\n",
       "              <dt>Master</dt>\n",
       "                <dd><code>local</code></dd>\n",
       "              <dt>AppName</dt>\n",
       "                <dd><code>test</code></dd>\n",
       "            </dl>\n",
       "        </div>\n",
       "        \n",
       "            </div>\n",
       "        "
      ],
      "text/plain": [
       "<pyspark.sql.session.SparkSession at 0x24040032be0>"
      ]
     },
     "execution_count": 12,
     "metadata": {},
     "output_type": "execute_result"
    }
   ],
   "source": [
    "# create one local spark session and use it for all the following cells\n",
    "master = \"local\"\n",
    "appName = \"test\"\n",
    "spark = SparkSession.builder.appName(appName).master(master).getOrCreate()\n",
    "spark"
   ]
  },
  {
   "cell_type": "code",
   "execution_count": 20,
   "metadata": {
    "ExecuteTime": {
     "end_time": "2018-01-01T12:44:52.721652Z",
     "start_time": "2018-01-01T12:44:51.350419Z"
    }
   },
   "outputs": [
    {
     "data": {
      "text/plain": [
       "103"
      ]
     },
     "execution_count": 20,
     "metadata": {},
     "output_type": "execute_result"
    },
    {
     "data": {
      "text/plain": [
       "Row(value='# Apache Spark')"
      ]
     },
     "execution_count": 20,
     "metadata": {},
     "output_type": "execute_result"
    },
    {
     "data": {
      "text/plain": [
       "20"
      ]
     },
     "execution_count": 20,
     "metadata": {},
     "output_type": "execute_result"
    }
   ],
   "source": [
    "file = spark_path + \"/README.md\"\n",
    "textFile = spark.read.text(file)\n",
    "textFile.count()\n",
    "textFile.first()\n",
    "# transform this DataFrame to a new one. We call filter to return a new DataFrame with a subset of the lines in the file.\n",
    "linesWithSpark = textFile.filter(textFile.value.contains(\"Spark\"))\n",
    "linesWithSpark.count()  # How many lines contain \"Spark\"?"
   ]
  },
  {
   "cell_type": "code",
   "execution_count": 25,
   "metadata": {
    "ExecuteTime": {
     "end_time": "2018-01-01T12:46:24.295305Z",
     "start_time": "2018-01-01T12:46:24.287294Z"
    }
   },
   "outputs": [
    {
     "ename": "SyntaxError",
     "evalue": "invalid syntax (<ipython-input-25-16051b6ecf2b>, line 2)",
     "output_type": "error",
     "traceback": [
      "\u001b[1;36m  File \u001b[1;32m\"<ipython-input-25-16051b6ecf2b>\"\u001b[1;36m, line \u001b[1;32m2\u001b[0m\n\u001b[1;33m    wordCounts = textFile.select(explode(split(textFile.value, \"\\s+\")).as(\"word\")).groupBy(\"word\").count()\u001b[0m\n\u001b[1;37m                                                                        ^\u001b[0m\n\u001b[1;31mSyntaxError\u001b[0m\u001b[1;31m:\u001b[0m invalid syntax\n"
     ]
    }
   ],
   "source": [
    "textFile.select(size(split(textFile.value, \"\\s+\")).name(\"numWords\")).agg(max(col(\"numWords\"))).collect()\n"
   ]
  }
 ],
 "metadata": {
  "kernelspec": {
   "display_name": "Python 3",
   "language": "python",
   "name": "python3"
  },
  "language_info": {
   "codemirror_mode": {
    "name": "ipython",
    "version": 3
   },
   "file_extension": ".py",
   "mimetype": "text/x-python",
   "name": "python",
   "nbconvert_exporter": "python",
   "pygments_lexer": "ipython3",
   "version": "3.6.3"
  },
  "toc": {
   "nav_menu": {},
   "number_sections": true,
   "sideBar": true,
   "skip_h1_title": false,
   "toc_cell": false,
   "toc_position": {},
   "toc_section_display": "block",
   "toc_window_display": false
  },
  "varInspector": {
   "cols": {
    "lenName": 16,
    "lenType": 16,
    "lenVar": 40
   },
   "kernels_config": {
    "python": {
     "delete_cmd_postfix": "",
     "delete_cmd_prefix": "del ",
     "library": "var_list.py",
     "varRefreshCmd": "print(var_dic_list())"
    },
    "r": {
     "delete_cmd_postfix": ") ",
     "delete_cmd_prefix": "rm(",
     "library": "var_list.r",
     "varRefreshCmd": "cat(var_dic_list()) "
    }
   },
   "types_to_exclude": [
    "module",
    "function",
    "builtin_function_or_method",
    "instance",
    "_Feature"
   ],
   "window_display": false
  }
 },
 "nbformat": 4,
 "nbformat_minor": 2
}
