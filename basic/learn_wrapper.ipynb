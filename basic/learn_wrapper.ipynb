{
 "cells": [
  {
   "cell_type": "code",
   "execution_count": 1,
   "metadata": {
    "ExecuteTime": {
     "end_time": "2017-11-13T08:13:57.821737Z",
     "start_time": "2017-11-13T08:13:57.152870Z"
    }
   },
   "outputs": [
    {
     "name": "stdout",
     "output_type": "stream",
     "text": [
      "2017-01-01 00:00:00\n",
      "i am wrapped for to_datetime ('20170101',) {}\n",
      "bye to_datetime\n",
      "2017-01-01 00:00:00\n"
     ]
    }
   ],
   "source": [
    "import pandas as pd\n",
    "\n",
    "def wrap(f):\n",
    "    def _f(*args, **kwargs):\n",
    "        print('i am wrapped for {} {} {}'.format(f.__name__, args, kwargs))\n",
    "        rval = f(*args, **kwargs)\n",
    "        print('bye {}'.format(f.__name__))\n",
    "        return rval\n",
    "    return _f\n",
    "\n",
    "print(pd.to_datetime('20170101'))\n",
    "pd.to_datetime = wrap(pd.to_datetime)\n",
    "print(pd.to_datetime('20170101'))\n"
   ]
  },
  {
   "cell_type": "code",
   "execution_count": 2,
   "metadata": {
    "ExecuteTime": {
     "end_time": "2017-11-13T08:14:08.713558Z",
     "start_time": "2017-11-13T08:14:08.679565Z"
    }
   },
   "outputs": [
    {
     "name": "stdout",
     "output_type": "stream",
     "text": [
      "('a', 'b')\n",
      "<class 'tuple'>\n",
      "{}\n",
      "cannot find parameter sql\n",
      "None\n",
      "()\n",
      "<class 'tuple'>\n",
      "{'sql': 'a', 'con': 'b'}\n"
     ]
    }
   ],
   "source": [
    "from functools import wraps\n",
    "\n",
    "def read_sql_query(sql, con, index_col=None, coerce_float=True, params=None,\n",
    "                   parse_dates=None, chunksize=None):\n",
    "    pass\n",
    "\n",
    "def wrapper_pd_sql(func):\n",
    "    @wraps(func)\n",
    "    def wrapped(*args, **kwargs):\n",
    "        print(args)\n",
    "        print(type(args))\n",
    "        print(kwargs)\n",
    "        sql = kwargs.get('sql')\n",
    "        if sql is None:\n",
    "            print('cannot find parameter sql')\n",
    "            sql = kwargs.get('sql_query')\n",
    "            print(sql)\n",
    "        return func(*args, **kwargs)\n",
    "    return wrapped\n",
    "\n",
    "read_sql_query=wrapper_pd_sql(read_sql_query)\n",
    "\n",
    "read_sql_query(\"a\",\"b\") # args\n",
    "read_sql_query(sql=\"a\",con=\"b\") #kwargs"
   ]
  },
  {
   "cell_type": "code",
   "execution_count": 4,
   "metadata": {
    "ExecuteTime": {
     "end_time": "2017-11-13T08:18:10.904428Z",
     "start_time": "2017-11-13T08:18:10.871435Z"
    }
   },
   "outputs": [
    {
     "name": "stdout",
     "output_type": "stream",
     "text": [
      "a\n",
      "a\n"
     ]
    }
   ],
   "source": [
    "from functools import wraps\n",
    "\n",
    "def read_sql_query(sql, con, index_col=None, coerce_float=True, params=None,\n",
    "                   parse_dates=None, chunksize=None):\n",
    "    pass\n",
    "\n",
    "def wrapper_pd_sql(func):\n",
    "    @wraps(func)\n",
    "    def wrapped(*args, **kwargs):\n",
    "        if args:\n",
    "            sql=args[0]\n",
    "        else:\n",
    "            if kwargs:\n",
    "                sql = kwargs.get('sql')            \n",
    "        if sql is None:\n",
    "            print('cannot find sql')\n",
    "        print(sql)            \n",
    "        return func(*args, **kwargs)\n",
    "    return wrapped\n",
    "\n",
    "read_sql_query=wrapper_pd_sql(read_sql_query)\n",
    "\n",
    "read_sql_query(\"a\",\"b\") # args\n",
    "read_sql_query(sql=\"a\",con=\"b\") #kwargs"
   ]
  }
 ],
 "metadata": {
  "hide_input": false,
  "kernelspec": {
   "display_name": "Python 3",
   "language": "python",
   "name": "python3"
  },
  "language_info": {
   "codemirror_mode": {
    "name": "ipython",
    "version": 3
   },
   "file_extension": ".py",
   "mimetype": "text/x-python",
   "name": "python",
   "nbconvert_exporter": "python",
   "pygments_lexer": "ipython3",
   "version": "3.5.4"
  }
 },
 "nbformat": 4,
 "nbformat_minor": 2
}
