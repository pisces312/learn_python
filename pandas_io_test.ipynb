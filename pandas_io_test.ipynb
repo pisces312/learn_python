{
 "cells": [
  {
   "cell_type": "markdown",
   "metadata": {},
   "source": [
    "Pandas IO test\n",
    "Pickle has the best performance"
   ]
  },
  {
   "cell_type": "code",
   "execution_count": 2,
   "metadata": {
    "ExecuteTime": {
     "end_time": "2017-11-29T13:28:05.500386Z",
     "start_time": "2017-11-29T13:27:58.367683Z"
    },
    "collapsed": true
   },
   "outputs": [],
   "source": [
    "import os\n",
    "import pandas as pd\n",
    "import sqlite3\n",
    "from numpy.random import randn\n",
    "from pandas.io import sql\n",
    "\n",
    "sz = 1000000\n",
    "df = pd.DataFrame({'A': randn(sz), 'B': [1] * sz})\n",
    "\n",
    "def test_sql_write(df):\n",
    "    if os.path.exists('test.sql'):\n",
    "        os.remove('test.sql')\n",
    "    sql_db = sqlite3.connect('test.sql')\n",
    "    df.to_sql(name='test_table', con=sql_db)\n",
    "    sql_db.close()\n",
    "\n",
    "def test_sql_read():\n",
    "    sql_db = sqlite3.connect('test.sql')\n",
    "    pd.read_sql_query(\"select * from test_table\", sql_db)\n",
    "    sql_db.close()\n",
    "\n",
    "def test_hdf_fixed_write(df):\n",
    "    df.to_hdf('test_fixed.hdf','test',mode='w')\n",
    "\n",
    "def test_hdf_fixed_read():\n",
    "    pd.read_hdf('test_fixed.hdf','test')\n",
    "\n",
    "def test_hdf_fixed_write_compress(df):\n",
    "    df.to_hdf('test_fixed_compress.hdf','test',mode='w',complib='blosc')\n",
    "\n",
    "def test_hdf_fixed_read_compress():\n",
    "    pd.read_hdf('test_fixed_compress.hdf','test')\n",
    "\n",
    "def test_hdf_table_write(df):\n",
    "    df.to_hdf('test_table.hdf','test',mode='w',format='table')\n",
    "\n",
    "def test_hdf_table_read():\n",
    "    pd.read_hdf('test_table.hdf','test')\n",
    "\n",
    "def test_hdf_table_write_compress(df):\n",
    "    df.to_hdf('test_table_compress.hdf','test',mode='w',complib='blosc',format='table')\n",
    "\n",
    "def test_hdf_table_read_compress():\n",
    "    pd.read_hdf('test_table_compress.hdf','test')\n",
    "\n",
    "def test_csv_write(df):\n",
    "    df.to_csv('test.csv',mode='w')\n",
    "\n",
    "def test_csv_read():\n",
    "    pd.read_csv('test.csv',index_col=0)\n",
    "\n",
    "def test_feather_write(df):\n",
    "    df.to_feather('test.feather')\n",
    "\n",
    "def test_feather_read():\n",
    "    pd.read_feather('test.feather')\n",
    "\n",
    "def test_pickle_write(df):\n",
    "    df.to_pickle('test.pkl')\n",
    "\n",
    "def test_pickle_read():\n",
    "    pd.read_pickle('test.pkl')\n",
    "\n",
    "def test_pickle_write_compress(df):\n",
    "    df.to_pickle('test.pkl.compress', compression='xz')\n",
    "\n",
    "def test_pickle_read_compress():\n",
    "    pd.read_pickle('test.pkl.compress', compression='xz')"
   ]
  },
  {
   "cell_type": "code",
   "execution_count": 5,
   "metadata": {
    "ExecuteTime": {
     "end_time": "2017-11-18T05:03:20.077443Z",
     "start_time": "2017-11-18T05:01:15.861167Z"
    }
   },
   "outputs": [
    {
     "name": "stdout",
     "output_type": "stream",
     "text": [
      "2.56 s ± 9 ms per loop (mean ± std. dev. of 7 runs, 1 loop each)\n",
      "22.1 ms ± 726 µs per loop (mean ± std. dev. of 7 runs, 10 loops each)\n",
      "83 ms ± 1.66 ms per loop (mean ± std. dev. of 7 runs, 10 loops each)\n",
      "493 ms ± 5.42 ms per loop (mean ± std. dev. of 7 runs, 1 loop each)\n",
      "551 ms ± 10.7 ms per loop (mean ± std. dev. of 7 runs, 1 loop each)\n",
      "3.82 s ± 3.83 ms per loop (mean ± std. dev. of 7 runs, 1 loop each)\n",
      "14.8 ms ± 163 µs per loop (mean ± std. dev. of 7 runs, 100 loops each)\n",
      "31.8 ms ± 640 µs per loop (mean ± std. dev. of 7 runs, 10 loops each)\n",
      "5.17 s ± 28.8 ms per loop (mean ± std. dev. of 7 runs, 1 loop each)\n"
     ]
    }
   ],
   "source": [
    "# write test\n",
    "%timeit test_sql_write(df)\n",
    "%timeit test_hdf_fixed_write(df)\n",
    "%timeit test_hdf_fixed_write_compress(df)\n",
    "%timeit test_hdf_table_write(df)\n",
    "%timeit test_hdf_table_write_compress(df)\n",
    "%timeit test_csv_write(df)\n",
    "%timeit test_feather_write(df)\n",
    "%timeit test_pickle_write(df)\n",
    "%timeit test_pickle_write_compress(df)\n",
    "\n"
   ]
  },
  {
   "cell_type": "code",
   "execution_count": 3,
   "metadata": {
    "ExecuteTime": {
     "end_time": "2017-11-29T13:29:46.975823Z",
     "start_time": "2017-11-29T13:28:05.530986Z"
    }
   },
   "outputs": [
    {
     "name": "stdout",
     "output_type": "stream",
     "text": [
      "4.91 s ± 114 ms per loop (mean ± std. dev. of 7 runs, 1 loop each)\n",
      "43 ms ± 4.41 ms per loop (mean ± std. dev. of 7 runs, 1 loop each)\n",
      "81.6 ms ± 2 ms per loop (mean ± std. dev. of 7 runs, 10 loops each)\n",
      "83.1 ms ± 1.82 ms per loop (mean ± std. dev. of 7 runs, 10 loops each)\n",
      "104 ms ± 2.86 ms per loop (mean ± std. dev. of 7 runs, 10 loops each)\n",
      "1.46 s ± 34.2 ms per loop (mean ± std. dev. of 7 runs, 1 loop each)\n",
      "22 ms ± 1.3 ms per loop (mean ± std. dev. of 7 runs, 1 loop each)\n",
      "30.8 ms ± 1.02 ms per loop (mean ± std. dev. of 7 runs, 10 loops each)\n",
      "2.8 s ± 29.2 ms per loop (mean ± std. dev. of 7 runs, 1 loop each)\n"
     ]
    }
   ],
   "source": [
    "%timeit test_sql_read()\n",
    "%timeit test_hdf_fixed_read()\n",
    "%timeit test_hdf_fixed_read_compress()\n",
    "%timeit test_hdf_table_read()\n",
    "%timeit test_hdf_table_read_compress()\n",
    "%timeit test_csv_read()\n",
    "%timeit test_feather_read()\n",
    "%timeit test_pickle_read()\n",
    "%timeit test_pickle_read_compress()\n",
    "\n",
    "# clean up\n",
    "if os.path.exists('test.csv'):\n",
    "    os.remove('test.csv')\n",
    "if os.path.exists('test.feather'):\n",
    "    os.remove('test.feather')\n",
    "if os.path.exists('test.pkl'):\n",
    "    os.remove('test.pkl')\n",
    "if os.path.exists('test.pkl.compress'):\n",
    "    os.remove('test.pkl.compress')\n",
    "if os.path.exists('test.sql'):\n",
    "    os.remove('test.sql')\n",
    "if os.path.exists('test_fixed.hdf'):\n",
    "    os.remove('test_fixed.hdf')\n",
    "if os.path.exists('test_fixed_compress.hdf'):\n",
    "    os.remove('test_fixed_compress.hdf')\n",
    "if os.path.exists('test.sql'):\n",
    "    os.remove('test_remote_debug.py')\n",
    "if os.path.exists('test_table.hdf'):\n",
    "    os.remove('test_table.hdf')\n",
    "if os.path.exists('test_table_compress.hdf'):\n",
    "    os.remove('test_table_compress.hdf')"
   ]
  }
 ],
 "metadata": {
  "kernelspec": {
   "display_name": "Python 3",
   "language": "python",
   "name": "python3"
  },
  "language_info": {
   "codemirror_mode": {
    "name": "ipython",
    "version": 3
   },
   "file_extension": ".py",
   "mimetype": "text/x-python",
   "name": "python",
   "nbconvert_exporter": "python",
   "pygments_lexer": "ipython3",
   "version": "3.6.3"
  },
  "toc": {
   "nav_menu": {},
   "number_sections": true,
   "sideBar": true,
   "skip_h1_title": false,
   "toc_cell": false,
   "toc_position": {},
   "toc_section_display": "block",
   "toc_window_display": false
  },
  "varInspector": {
   "cols": {
    "lenName": 16,
    "lenType": 16,
    "lenVar": 40
   },
   "kernels_config": {
    "python": {
     "delete_cmd_postfix": "",
     "delete_cmd_prefix": "del ",
     "library": "var_list.py",
     "varRefreshCmd": "print(var_dic_list())"
    },
    "r": {
     "delete_cmd_postfix": ") ",
     "delete_cmd_prefix": "rm(",
     "library": "var_list.r",
     "varRefreshCmd": "cat(var_dic_list()) "
    }
   },
   "types_to_exclude": [
    "module",
    "function",
    "builtin_function_or_method",
    "instance",
    "_Feature"
   ],
   "window_display": false
  }
 },
 "nbformat": 4,
 "nbformat_minor": 2
}
