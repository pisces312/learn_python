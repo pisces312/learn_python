{
 "cells": [
  {
   "cell_type": "code",
   "execution_count": 6,
   "metadata": {
    "ExecuteTime": {
     "end_time": "2017-12-30T09:43:32.721905Z",
     "start_time": "2017-12-30T09:43:32.668711Z"
    }
   },
   "outputs": [
    {
     "name": "stdout",
     "output_type": "stream",
     "text": [
      "{'type': 'record', 'name': 'VarMeasuresRecord', 'namespace': 'com.nomura.rcit.monju.var.bean', 'fields': [{'name': 'nodeId', 'type': 'int'}, {'name': 'specificRiskMap', 'type': ['null', {'type': 'map', 'values': {'type': 'map', 'values': 'double'}}], 'default': None}, {'name': 'varMeasures', 'type': ['null', {'type': 'map', 'values': 'double'}], 'default': None}, {'name': 'errors', 'type': ['null', {'type': 'array', 'items': 'string'}], 'default': None}]}\n",
      "{'nodeId': 615680, 'specificRiskMap': {'1.0d_VAR_99': {\"1>'region',_18\": 1.661522111e-314, \"1>'country_code',_USA\": 1.324377928e-314}}, 'varMeasures': {'1.0d_VAR_99': 1.767546341e-314}, 'errors': None}\n"
     ]
    }
   ],
   "source": [
    "import fastavro\n",
    "file='C:\\\\nili\\\\nomura\\\\data\\\\node_var.avro'\n",
    "fp=open(file,'rb')\n",
    "reader=fastavro.reader(fp)\n",
    "print(reader.schema)\n",
    "for r in reader:\n",
    "    print(r)"
   ]
  }
 ],
 "metadata": {
  "kernelspec": {
   "display_name": "Python 3",
   "language": "python",
   "name": "python3"
  },
  "language_info": {
   "codemirror_mode": {
    "name": "ipython",
    "version": 3
   },
   "file_extension": ".py",
   "mimetype": "text/x-python",
   "name": "python",
   "nbconvert_exporter": "python",
   "pygments_lexer": "ipython3",
   "version": "3.6.3"
  },
  "toc": {
   "nav_menu": {},
   "number_sections": true,
   "sideBar": true,
   "skip_h1_title": false,
   "toc_cell": false,
   "toc_position": {},
   "toc_section_display": "block",
   "toc_window_display": false
  },
  "varInspector": {
   "cols": {
    "lenName": 16,
    "lenType": 16,
    "lenVar": 40
   },
   "kernels_config": {
    "python": {
     "delete_cmd_postfix": "",
     "delete_cmd_prefix": "del ",
     "library": "var_list.py",
     "varRefreshCmd": "print(var_dic_list())"
    },
    "r": {
     "delete_cmd_postfix": ") ",
     "delete_cmd_prefix": "rm(",
     "library": "var_list.r",
     "varRefreshCmd": "cat(var_dic_list()) "
    }
   },
   "types_to_exclude": [
    "module",
    "function",
    "builtin_function_or_method",
    "instance",
    "_Feature"
   ],
   "window_display": false
  }
 },
 "nbformat": 4,
 "nbformat_minor": 2
}
